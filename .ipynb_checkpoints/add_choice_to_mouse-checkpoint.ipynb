{
 "cells": [
  {
   "cell_type": "markdown",
   "metadata": {},
   "source": [
    "# 1. Drawing shapes"
   ]
  },
  {
   "cell_type": "markdown",
   "metadata": {},
   "source": [
    "### Import libraries"
   ]
  },
  {
   "cell_type": "code",
   "execution_count": 3,
   "metadata": {},
   "outputs": [],
   "source": [
    "import cv2\n",
    "import numpy as np"
   ]
  },
  {
   "cell_type": "code",
   "execution_count": null,
   "metadata": {},
   "outputs": [],
   "source": [
    "#function\n",
    "#x,y flag, param are feed from OpenCV automatically\n",
    "def draw_cirlce(event, x, y, flags, param):\n",
    "    # left button down\n",
    "    if event == cv2.EVENT_LBUTTONDOWN:\n",
    "        cv2.circle(img,\n",
    "                  (x,y), \n",
    "                  100,\n",
    "                  (75, 131,251),\n",
    "                  -1)\n",
    "     # right button down\n",
    "    if event == cv2.EVENT_RBUTTONDOWN:\n",
    "        cv2.circle(img,\n",
    "                  (x,y), \n",
    "                  50,\n",
    "                  (251, 75, 131),\n",
    "                  -1)\n",
    "        \n",
    "        \n",
    "# Connect the function with the callback\n",
    "cv2.namedWindow(winname='my_drawing2')\n",
    "\n",
    "# callback\n",
    "cv2.setMouseCallback('my_drawing2', draw_cirlce)\n",
    "\n",
    "# using open cv to show the image\n",
    "img = np.zeros((512,512,3), np.int8)\n",
    "\n",
    "while True:\n",
    "    cv2.imshow('my_drawing2', img)\n",
    "    if cv2.waitKey(5) & 0xFF == ord('q'):\n",
    "        # if we press escape q close it\n",
    "        break\n",
    "        \n",
    "cv2.destroyAllWindows()"
   ]
  },
  {
   "cell_type": "code",
   "execution_count": null,
   "metadata": {},
   "outputs": [],
   "source": []
  }
 ],
 "metadata": {
  "kernelspec": {
   "display_name": "Python 3",
   "language": "python",
   "name": "python3"
  },
  "language_info": {
   "codemirror_mode": {
    "name": "ipython",
    "version": 3
   },
   "file_extension": ".py",
   "mimetype": "text/x-python",
   "name": "python",
   "nbconvert_exporter": "python",
   "pygments_lexer": "ipython3",
   "version": "3.8.3"
  }
 },
 "nbformat": 4,
 "nbformat_minor": 4
}
